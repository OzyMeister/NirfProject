{
 "cells": [
  {
   "cell_type": "code",
   "execution_count": 15,
   "id": "ebe2607f",
   "metadata": {
    "scrolled": true
   },
   "outputs": [
    {
     "name": "stdout",
     "output_type": "stream",
     "text": [
      "Conversion complete!\n"
     ]
    }
   ],
   "source": [
    "from PIL import Image\n",
    "import os\n",
    "\n",
    "# Set input and output folder paths\n",
    "input_folder = \"22images\"\n",
    "output_folder = \"22impdfs\"\n",
    "\n",
    "# Create output folder if it doesn't exist\n",
    "if not os.path.exists(output_folder):\n",
    "    os.makedirs(output_folder)\n",
    "\n",
    "# Loop through all PNG files in the input folder\n",
    "for filename in os.listdir(input_folder):\n",
    "    if filename.endswith(\".png\"):\n",
    "        # Open the image using PIL\n",
    "        filepath = os.path.join(input_folder, filename)\n",
    "        img = Image.open(filepath)\n",
    "\n",
    "        # Convert RGBA images to RGB\n",
    "        if img.mode == \"RGBA\":\n",
    "            img = img.convert(\"RGB\")\n",
    "\n",
    "        # Set output PDF file path\n",
    "        output_filepath = os.path.join(output_folder, filename[:-4] + \".pdf\")\n",
    "\n",
    "        # Convert image to PDF and save\n",
    "        img.save(output_filepath, \"PDF\", resolution=300.0, compress_level=0)\n",
    "\n",
    "\n",
    "print(\"Conversion complete!\")\n"
   ]
  },
  {
   "cell_type": "code",
   "execution_count": 4,
   "id": "f495922c",
   "metadata": {},
   "outputs": [
    {
     "name": "stdout",
     "output_type": "stream",
     "text": [
      "Extraction complete!\n"
     ]
    }
   ],
   "source": [
    "import tabula\n",
    "import os\n",
    "import pandas as pd\n",
    "\n",
    "# Set input and output folder paths\n",
    "input_folder = \"22impdfs\"\n",
    "\n",
    "# Loop through all PDF files in the input folder\n",
    "dataframes = []\n",
    "for filename in os.listdir(input_folder):\n",
    "    if filename.endswith(\".pdf\"):\n",
    "        # Set input file path\n",
    "        filepath = os.path.join(input_folder, filename)\n",
    "\n",
    "        # Extract table from PDF using tabula-py\n",
    "        tables = tabula.read_pdf(filepath, pages=\"all\")\n",
    "\n",
    "        # Convert each table to a pandas dataframe and append to list\n",
    "        for table in tables:\n",
    "            df = pd.DataFrame(table)\n",
    "            dataframes.append(df)\n",
    "\n",
    "print(\"Extraction complete!\")\n"
   ]
  },
  {
   "cell_type": "code",
   "execution_count": 12,
   "id": "6da8c4f4",
   "metadata": {},
   "outputs": [
    {
     "name": "stdout",
     "output_type": "stream",
     "text": [
      "No tables found in the PDF file!\n"
     ]
    }
   ],
   "source": [
    "import tabula\n",
    "import os\n",
    "import pandas as pd\n",
    "\n",
    "# Set input folder path\n",
    "input_folder = \"22impdfs\"\n",
    "\n",
    "# Set input file path\n",
    "input_file = \"IR-E-C-1262.pdf\"\n",
    "input_path = os.path.join(input_folder, input_file)\n",
    "\n",
    "# Extract table from PDF using tabula-py\n",
    "tables = tabula.read_pdf(input_path, pages=\"all\")\n",
    "\n",
    "if len(tables) > 0:\n",
    "    # Convert table to a pandas dataframe and print it\n",
    "    df = pd.DataFrame(tables[0])\n",
    "    print(df)\n",
    "else:\n",
    "    print(\"No tables found in the PDF file!\")\n"
   ]
  },
  {
   "cell_type": "code",
   "execution_count": 16,
   "id": "e784c000",
   "metadata": {},
   "outputs": [],
   "source": [
    "import tabula\n",
    "import pandas as pd\n",
    "import numpy as np\n",
    "\n",
    "# Set the path to your PDF file\n",
    "pdf_path = r'C:\\Users\\Astik\\22impdfs\\IR-E-U-0456.pdf'\n",
    "\n",
    "# Use tabula to extract tables from the PDF file\n",
    "tables = tabula.read_pdf(pdf_path, pages=\"all\")\n",
    "\n",
    "# Convert each table into a Pandas DataFrame\n",
    "dfs = []\n",
    "for i, table in enumerate(tables, start=1):\n",
    "    df = pd.DataFrame(table)\n",
    "    df.columns = [f\"{col} T{i}_C{j+1}\" for j, col in enumerate(df.columns)]\n",
    "    dfs.append(df)\n",
    "\n",
    "# Display the resulting DataFrames\n",
    "for i, df in enumerate(dfs, start=1):\n",
    "    print(f\"Table {i}\")\n",
    "    display(df)\n",
    "    print()"
   ]
  },
  {
   "cell_type": "code",
   "execution_count": 17,
   "id": "116482b7",
   "metadata": {},
   "outputs": [
    {
     "name": "stdout",
     "output_type": "stream",
     "text": [
      "Number of DataFrames: 0\n"
     ]
    }
   ],
   "source": [
    "print(f\"Number of DataFrames: {len(dfs)}\")"
   ]
  }
 ],
 "metadata": {
  "kernelspec": {
   "display_name": "Python 3 (ipykernel)",
   "language": "python",
   "name": "python3"
  },
  "language_info": {
   "codemirror_mode": {
    "name": "ipython",
    "version": 3
   },
   "file_extension": ".py",
   "mimetype": "text/x-python",
   "name": "python",
   "nbconvert_exporter": "python",
   "pygments_lexer": "ipython3",
   "version": "3.9.7"
  }
 },
 "nbformat": 4,
 "nbformat_minor": 5
}
