{
  "cells": [
    {
      "cell_type": "markdown",
      "metadata": {
        "id": "view-in-github",
        "colab_type": "text"
      },
      "source": [
        "<a href=\"https://colab.research.google.com/github/OzyMeister/NirfProject/blob/main/pdfs22.ipynb\" target=\"_parent\"><img src=\"https://colab.research.google.com/assets/colab-badge.svg\" alt=\"Open In Colab\"/></a>"
      ]
    },
    {
      "cell_type": "code",
      "execution_count": null,
      "metadata": {
        "id": "XV-1B_JXNX31"
      },
      "outputs": [],
      "source": [
        "import requests # importing requests library to make a GET request to the webpage\n",
        "from bs4 import BeautifulSoup # importing BeautifulSoup library to parse the HTML \n",
        "import os # importing os library to create the folder \n",
        "import urllib.request # importing urllib.request library to open the links and save the images\n",
        "\n",
        "url = \"https://www.nirfindia.org/2022/EngineeringRanking.html\" # the url of the webpage\n",
        "response = requests.get(url) # making a GET request to the webpage\n",
        "soup = BeautifulSoup(response.content, \"html.parser\") # parsing the HTML\n",
        "\n",
        "# Extract all links from the webpage\n",
        "links = [a[\"href\"] for a in soup.find_all(\"a\", href=True)] \n",
        "\n",
        "# Filter redirectable links by checking if the links start with \"http\"l \n",
        "redirectable_links = [link for link in links if link.startswith(\"http\")] \n",
        "\n",
        "# Filter links that end with \".png\"\n",
        "png_links = [link for link in redirectable_links if link.endswith(\".pdf\")]\n",
        "\n",
        "# Create a folder to save the images\n",
        "folder_name = \"22pdfs\"\n",
        "if not os.path.exists(folder_name):\n",
        "    os.makedirs(folder_name)\n",
        "\n",
        "# Download and save the images\n",
        "for link in png_links:\n",
        "    filename = link.split(\"/\")[-1] # Extracting the file name from the link\n",
        "    urllib.request.urlretrieve(link, f\"{folder_name}/{filename}\") # Downloading the image and saving it to the folder with the extracted file name\n"
      ]
    },
    {
      "cell_type": "code",
      "source": [
        "i=1"
      ],
      "metadata": {
        "id": "sXENPzGQCTLT"
      },
      "execution_count": null,
      "outputs": []
    },
    {
      "cell_type": "code",
      "execution_count": null,
      "metadata": {
        "id": "8HKqnumVPeC6"
      },
      "outputs": [],
      "source": [
        "# import os\n",
        "# import shutil\n",
        "\n",
        "# folder_path = '/content/22pdfs'\n",
        "# folder_size = 0\n",
        "\n",
        "# for path, dirs, files in os.walk(folder_path):\n",
        "#     for f in files:\n",
        "#         fp = os.path.join(path, f)\n",
        "#         folder_size += os.path.getsize(fp)\n",
        "\n",
        "# print(\"Folder size: \", folder_size / (1024 * 1024), \"MB\")\n"
      ]
    },
    {
      "cell_type": "code",
      "execution_count": null,
      "metadata": {
        "id": "a_QZxNUG_Tjz"
      },
      "outputs": [],
      "source": [
        "# !pip install --force-reinstall tabula-py"
      ]
    },
    {
      "cell_type": "code",
      "source": [
        "!pip install PyMuPDF"
      ],
      "metadata": {
        "colab": {
          "base_uri": "https://localhost:8080/"
        },
        "id": "tcoXm_RHW9W1",
        "outputId": "1abcfb66-4792-4951-d7d5-93632c4b4a3c"
      },
      "execution_count": null,
      "outputs": [
        {
          "output_type": "stream",
          "name": "stdout",
          "text": [
            "Looking in indexes: https://pypi.org/simple, https://us-python.pkg.dev/colab-wheels/public/simple/\n",
            "Requirement already satisfied: PyMuPDF in /usr/local/lib/python3.8/dist-packages (1.21.1)\n"
          ]
        }
      ]
    },
    {
      "cell_type": "code",
      "execution_count": null,
      "metadata": {
        "colab": {
          "base_uri": "https://localhost:8080/"
        },
        "id": "kM9rF5Wx_ObH",
        "outputId": "d5d826d3-ac6c-405e-aaf1-91a303b2fa81"
      },
      "outputs": [
        {
          "output_type": "stream",
          "name": "stdout",
          "text": [
            "Number of tables in the document: 0\n"
          ]
        }
      ],
      "source": [
        "import fitz\n",
        "\n",
        "# Open the PDF document\n",
        "doc = fitz.open(\"/content/22pdfs/IR-E-C-1269.pdf\")\n",
        "\n",
        "# Iterate through all the pages in the document\n",
        "table_count = 0\n",
        "for page in doc:\n",
        "    # Search for tables on the page\n",
        "    tables = page.search_for(\"table\")\n",
        "    table_count += len(tables)\n",
        "\n",
        "print(\"Number of tables in the document:\", table_count)\n"
      ]
    },
    {
      "cell_type": "code",
      "source": [
        "!pip install pymupdf"
      ],
      "metadata": {
        "colab": {
          "base_uri": "https://localhost:8080/"
        },
        "id": "A2T7SIJpY2hF",
        "outputId": "6818119a-5b2d-454c-94e1-04006d43ad95"
      },
      "execution_count": null,
      "outputs": [
        {
          "output_type": "stream",
          "name": "stdout",
          "text": [
            "Looking in indexes: https://pypi.org/simple, https://us-python.pkg.dev/colab-wheels/public/simple/\n",
            "Requirement already satisfied: pymupdf in /usr/local/lib/python3.8/dist-packages (1.21.1)\n"
          ]
        }
      ]
    },
    {
      "cell_type": "code",
      "execution_count": null,
      "metadata": {
        "id": "HxORZqAyA6Az"
      },
      "outputs": [],
      "source": [
        "import fitz\n",
        "import csv\n",
        "\n",
        "# Open the PDF file\n",
        "pdf_file = fitz.open(\"/content/22pdfs/IR-E-C-1269.pdf\")\n",
        "\n",
        "# Extract the text from each page of the PDF\n",
        "texts = []\n",
        "for page_num in range(pdf_file.page_count):\n",
        "    page = pdf_file.load_page(page_num)\n",
        "    texts.append(page.get_text(\"text\"))\n",
        "\n",
        "# Write the text to a CSV file\n",
        "with open('sample.csv', 'w', newline='') as csvfile:\n",
        "    writer = csv.writer(csvfile)\n",
        "    for text in texts:\n",
        "        writer.writerow([text])\n",
        "\n",
        "# Close the PDF file\n",
        "pdf_file.close()"
      ]
    },
    {
      "cell_type": "code",
      "source": [
        "# import fitz\n",
        "# import csv\n",
        "# import os\n",
        "\n",
        "# # Path to the folder containing PDF files\n",
        "# pdf_folder = \"22pdfs\"\n",
        "# # Path to the folder to store the CSV files\n",
        "# csv_folder = \"csvs\"\n",
        "\n",
        "# # Check if the CSV folder exists, and create it if it doesn't\n",
        "# if not os.path.exists(csv_folder):\n",
        "#     os.makedirs(csv_folder)\n",
        "\n",
        "# # Loop through all PDF files in the folder\n",
        "# for pdf_file_name in os.listdir(pdf_folder):\n",
        "#     if pdf_file_name.endswith(\".pdf\"):\n",
        "#         pdf_file = fitz.open(os.path.join(pdf_folder, pdf_file_name))\n",
        "        \n",
        "#         # Iterate through each page\n",
        "#         for page_num in range(pdf_file.page_count):\n",
        "#             page = pdf_file[page_num]\n",
        "#             # Get the table of the page\n",
        "#             tables = page.get_tables()\n",
        "\n",
        "#             # Iterate through each table in the page\n",
        "#             for table_num, table in enumerate(tables):\n",
        "#                 # Write the table to a CSV file\n",
        "#                 csv_file_name = os.path.splitext(pdf_file_name)[0] + f\"_page{page_num + 1}_table{table_num + 1}.csv\"\n",
        "#                 csv_file_path = os.path.join(csv_folder, csv_file_name)\n",
        "#                 with open(csv_file_path, \"w\", newline=\"\") as f:\n",
        "#                     writer = csv.writer(f)\n",
        "#                     writer.writerows(table)\n",
        "\n",
        "#         # Close the PDF file\n",
        "#         pdf_file.close()"
      ],
      "metadata": {
        "id": "gELrvMOw8wBS"
      },
      "execution_count": null,
      "outputs": []
    }
  ],
  "metadata": {
    "colab": {
      "provenance": [],
      "authorship_tag": "ABX9TyPzgn0IKvYd2K7y4WH90rkk",
      "include_colab_link": true
    },
    "kernelspec": {
      "display_name": "Python 3",
      "name": "python3"
    },
    "language_info": {
      "name": "python"
    }
  },
  "nbformat": 4,
  "nbformat_minor": 0
}