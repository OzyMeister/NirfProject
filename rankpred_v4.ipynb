{
  "cells": [
    {
      "cell_type": "markdown",
      "metadata": {
        "id": "view-in-github",
        "colab_type": "text"
      },
      "source": [
        "<a href=\"https://colab.research.google.com/github/OzyMeister/NirfProject/blob/main/rankpred_v4.ipynb\" target=\"_parent\"><img src=\"https://colab.research.google.com/assets/colab-badge.svg\" alt=\"Open In Colab\"/></a>"
      ]
    },
    {
      "cell_type": "code",
      "execution_count": null,
      "metadata": {
        "id": "d879z545W4S0"
      },
      "outputs": [],
      "source": [
        "\n",
        " import pandas as pd"
      ]
    },
    {
      "cell_type": "code",
      "execution_count": null,
      "metadata": {
        "id": "OVUpE4CCXFBd"
      },
      "outputs": [],
      "source": [
        "data=pd.read_csv(\"/content/200samp.csv\")"
      ]
    },
    {
      "cell_type": "code",
      "execution_count": null,
      "metadata": {
        "id": "EEpbbC3VXcbd",
        "colab": {
          "base_uri": "https://localhost:8080/",
          "height": 424
        },
        "outputId": "04652657-4ad9-40bc-bd65-5f3396beba6a"
      },
      "outputs": [
        {
          "output_type": "execute_result",
          "data": {
            "text/plain": [
              "     y      T      R      G      O       P\n",
              "0    1  93.55  92.39  84.36  63.99  100.00\n",
              "1    2  85.80  96.18  80.32  56.19   90.85\n",
              "2    3  89.12  95.30  76.47  48.17   89.61\n",
              "3    4  73.14  88.20  84.12  57.79   84.14\n",
              "4    5  79.07  81.79  82.56  46.61   81.35\n",
              "..  ..    ...    ...    ...    ...     ...\n",
              "795  5  81.06  38.78  68.75  63.67   30.87\n",
              "796  4  86.95  96.00  83.43  68.56   96.92\n",
              "797  3  87.53  90.82  79.18  57.36   88.70\n",
              "798  2  87.95  79.98  89.71  59.47   83.01\n",
              "799  1  94.62  97.66  80.42  62.85  100.00\n",
              "\n",
              "[800 rows x 6 columns]"
            ],
            "text/html": [
              "\n",
              "  <div id=\"df-c1313508-4242-4361-9622-cd3ed56289a7\">\n",
              "    <div class=\"colab-df-container\">\n",
              "      <div>\n",
              "<style scoped>\n",
              "    .dataframe tbody tr th:only-of-type {\n",
              "        vertical-align: middle;\n",
              "    }\n",
              "\n",
              "    .dataframe tbody tr th {\n",
              "        vertical-align: top;\n",
              "    }\n",
              "\n",
              "    .dataframe thead th {\n",
              "        text-align: right;\n",
              "    }\n",
              "</style>\n",
              "<table border=\"1\" class=\"dataframe\">\n",
              "  <thead>\n",
              "    <tr style=\"text-align: right;\">\n",
              "      <th></th>\n",
              "      <th>y</th>\n",
              "      <th>T</th>\n",
              "      <th>R</th>\n",
              "      <th>G</th>\n",
              "      <th>O</th>\n",
              "      <th>P</th>\n",
              "    </tr>\n",
              "  </thead>\n",
              "  <tbody>\n",
              "    <tr>\n",
              "      <th>0</th>\n",
              "      <td>1</td>\n",
              "      <td>93.55</td>\n",
              "      <td>92.39</td>\n",
              "      <td>84.36</td>\n",
              "      <td>63.99</td>\n",
              "      <td>100.00</td>\n",
              "    </tr>\n",
              "    <tr>\n",
              "      <th>1</th>\n",
              "      <td>2</td>\n",
              "      <td>85.80</td>\n",
              "      <td>96.18</td>\n",
              "      <td>80.32</td>\n",
              "      <td>56.19</td>\n",
              "      <td>90.85</td>\n",
              "    </tr>\n",
              "    <tr>\n",
              "      <th>2</th>\n",
              "      <td>3</td>\n",
              "      <td>89.12</td>\n",
              "      <td>95.30</td>\n",
              "      <td>76.47</td>\n",
              "      <td>48.17</td>\n",
              "      <td>89.61</td>\n",
              "    </tr>\n",
              "    <tr>\n",
              "      <th>3</th>\n",
              "      <td>4</td>\n",
              "      <td>73.14</td>\n",
              "      <td>88.20</td>\n",
              "      <td>84.12</td>\n",
              "      <td>57.79</td>\n",
              "      <td>84.14</td>\n",
              "    </tr>\n",
              "    <tr>\n",
              "      <th>4</th>\n",
              "      <td>5</td>\n",
              "      <td>79.07</td>\n",
              "      <td>81.79</td>\n",
              "      <td>82.56</td>\n",
              "      <td>46.61</td>\n",
              "      <td>81.35</td>\n",
              "    </tr>\n",
              "    <tr>\n",
              "      <th>...</th>\n",
              "      <td>...</td>\n",
              "      <td>...</td>\n",
              "      <td>...</td>\n",
              "      <td>...</td>\n",
              "      <td>...</td>\n",
              "      <td>...</td>\n",
              "    </tr>\n",
              "    <tr>\n",
              "      <th>795</th>\n",
              "      <td>5</td>\n",
              "      <td>81.06</td>\n",
              "      <td>38.78</td>\n",
              "      <td>68.75</td>\n",
              "      <td>63.67</td>\n",
              "      <td>30.87</td>\n",
              "    </tr>\n",
              "    <tr>\n",
              "      <th>796</th>\n",
              "      <td>4</td>\n",
              "      <td>86.95</td>\n",
              "      <td>96.00</td>\n",
              "      <td>83.43</td>\n",
              "      <td>68.56</td>\n",
              "      <td>96.92</td>\n",
              "    </tr>\n",
              "    <tr>\n",
              "      <th>797</th>\n",
              "      <td>3</td>\n",
              "      <td>87.53</td>\n",
              "      <td>90.82</td>\n",
              "      <td>79.18</td>\n",
              "      <td>57.36</td>\n",
              "      <td>88.70</td>\n",
              "    </tr>\n",
              "    <tr>\n",
              "      <th>798</th>\n",
              "      <td>2</td>\n",
              "      <td>87.95</td>\n",
              "      <td>79.98</td>\n",
              "      <td>89.71</td>\n",
              "      <td>59.47</td>\n",
              "      <td>83.01</td>\n",
              "    </tr>\n",
              "    <tr>\n",
              "      <th>799</th>\n",
              "      <td>1</td>\n",
              "      <td>94.62</td>\n",
              "      <td>97.66</td>\n",
              "      <td>80.42</td>\n",
              "      <td>62.85</td>\n",
              "      <td>100.00</td>\n",
              "    </tr>\n",
              "  </tbody>\n",
              "</table>\n",
              "<p>800 rows × 6 columns</p>\n",
              "</div>\n",
              "      <button class=\"colab-df-convert\" onclick=\"convertToInteractive('df-c1313508-4242-4361-9622-cd3ed56289a7')\"\n",
              "              title=\"Convert this dataframe to an interactive table.\"\n",
              "              style=\"display:none;\">\n",
              "        \n",
              "  <svg xmlns=\"http://www.w3.org/2000/svg\" height=\"24px\"viewBox=\"0 0 24 24\"\n",
              "       width=\"24px\">\n",
              "    <path d=\"M0 0h24v24H0V0z\" fill=\"none\"/>\n",
              "    <path d=\"M18.56 5.44l.94 2.06.94-2.06 2.06-.94-2.06-.94-.94-2.06-.94 2.06-2.06.94zm-11 1L8.5 8.5l.94-2.06 2.06-.94-2.06-.94L8.5 2.5l-.94 2.06-2.06.94zm10 10l.94 2.06.94-2.06 2.06-.94-2.06-.94-.94-2.06-.94 2.06-2.06.94z\"/><path d=\"M17.41 7.96l-1.37-1.37c-.4-.4-.92-.59-1.43-.59-.52 0-1.04.2-1.43.59L10.3 9.45l-7.72 7.72c-.78.78-.78 2.05 0 2.83L4 21.41c.39.39.9.59 1.41.59.51 0 1.02-.2 1.41-.59l7.78-7.78 2.81-2.81c.8-.78.8-2.07 0-2.86zM5.41 20L4 18.59l7.72-7.72 1.47 1.35L5.41 20z\"/>\n",
              "  </svg>\n",
              "      </button>\n",
              "      \n",
              "  <style>\n",
              "    .colab-df-container {\n",
              "      display:flex;\n",
              "      flex-wrap:wrap;\n",
              "      gap: 12px;\n",
              "    }\n",
              "\n",
              "    .colab-df-convert {\n",
              "      background-color: #E8F0FE;\n",
              "      border: none;\n",
              "      border-radius: 50%;\n",
              "      cursor: pointer;\n",
              "      display: none;\n",
              "      fill: #1967D2;\n",
              "      height: 32px;\n",
              "      padding: 0 0 0 0;\n",
              "      width: 32px;\n",
              "    }\n",
              "\n",
              "    .colab-df-convert:hover {\n",
              "      background-color: #E2EBFA;\n",
              "      box-shadow: 0px 1px 2px rgba(60, 64, 67, 0.3), 0px 1px 3px 1px rgba(60, 64, 67, 0.15);\n",
              "      fill: #174EA6;\n",
              "    }\n",
              "\n",
              "    [theme=dark] .colab-df-convert {\n",
              "      background-color: #3B4455;\n",
              "      fill: #D2E3FC;\n",
              "    }\n",
              "\n",
              "    [theme=dark] .colab-df-convert:hover {\n",
              "      background-color: #434B5C;\n",
              "      box-shadow: 0px 1px 3px 1px rgba(0, 0, 0, 0.15);\n",
              "      filter: drop-shadow(0px 1px 2px rgba(0, 0, 0, 0.3));\n",
              "      fill: #FFFFFF;\n",
              "    }\n",
              "  </style>\n",
              "\n",
              "      <script>\n",
              "        const buttonEl =\n",
              "          document.querySelector('#df-c1313508-4242-4361-9622-cd3ed56289a7 button.colab-df-convert');\n",
              "        buttonEl.style.display =\n",
              "          google.colab.kernel.accessAllowed ? 'block' : 'none';\n",
              "\n",
              "        async function convertToInteractive(key) {\n",
              "          const element = document.querySelector('#df-c1313508-4242-4361-9622-cd3ed56289a7');\n",
              "          const dataTable =\n",
              "            await google.colab.kernel.invokeFunction('convertToInteractive',\n",
              "                                                     [key], {});\n",
              "          if (!dataTable) return;\n",
              "\n",
              "          const docLinkHtml = 'Like what you see? Visit the ' +\n",
              "            '<a target=\"_blank\" href=https://colab.research.google.com/notebooks/data_table.ipynb>data table notebook</a>'\n",
              "            + ' to learn more about interactive tables.';\n",
              "          element.innerHTML = '';\n",
              "          dataTable['output_type'] = 'display_data';\n",
              "          await google.colab.output.renderOutput(dataTable, element);\n",
              "          const docLink = document.createElement('div');\n",
              "          docLink.innerHTML = docLinkHtml;\n",
              "          element.appendChild(docLink);\n",
              "        }\n",
              "      </script>\n",
              "    </div>\n",
              "  </div>\n",
              "  "
            ]
          },
          "metadata": {},
          "execution_count": 3
        }
      ],
      "source": [
        "data"
      ]
    },
    {
      "cell_type": "code",
      "execution_count": null,
      "metadata": {
        "id": "PVygFVAxXdCi"
      },
      "outputs": [],
      "source": [
        "x=data.drop(['y'],axis=1).values\n",
        "y=data['y'].values"
      ]
    },
    {
      "cell_type": "code",
      "execution_count": null,
      "metadata": {
        "id": "ZovI8X48XpJy"
      },
      "outputs": [],
      "source": [
        "from sklearn.model_selection import train_test_split\n",
        "x_train,x_test,y_train,y_test=train_test_split(x,y,test_size=0.3, random_state=1)"
      ]
    },
    {
      "cell_type": "code",
      "execution_count": null,
      "metadata": {
        "id": "Zl5tDNDEXseB",
        "colab": {
          "base_uri": "https://localhost:8080/"
        },
        "outputId": "73d6d3c5-a029-4de4-c988-a3163d4a2b47"
      },
      "outputs": [
        {
          "output_type": "execute_result",
          "data": {
            "text/plain": [
              "LinearRegression()"
            ]
          },
          "metadata": {},
          "execution_count": 6
        }
      ],
      "source": [
        "from sklearn.linear_model import LinearRegression\n",
        "ml=LinearRegression()\n",
        "ml.fit(x_train,y_train)"
      ]
    },
    {
      "cell_type": "code",
      "execution_count": null,
      "metadata": {
        "id": "OFKYBAOjXvND",
        "colab": {
          "base_uri": "https://localhost:8080/"
        },
        "outputId": "0e82bfb3-b92b-40f2-c033-bc1146e688c8"
      },
      "outputs": [
        {
          "output_type": "stream",
          "name": "stdout",
          "text": [
            "[ 76.4001543  109.96004856 136.10116351  73.63295222 139.77856312\n",
            "  52.08359317 132.48951902  38.95088573  92.73385977 127.19930585\n",
            " 138.92109842 103.58988308 114.81795323  52.94867519  60.41426341\n",
            " 116.88027379  30.65832574 134.29170111 157.03296329  55.1453979\n",
            " 118.58479835 112.80786254  98.79052457 146.91707237  97.42737767\n",
            "  66.39857944  99.00264103  69.31498752  85.18971928 132.66919966\n",
            "  69.33074328 -41.35082872   2.09478946 144.98446356 168.49164856\n",
            " 112.29253528 133.2903252  115.71637357  92.96043853  57.6324962\n",
            " 129.61648681 115.06512354  42.17900663  77.12729119  28.7629673\n",
            " 129.39700013 113.93692542  67.33946405 133.33102375  61.53116988\n",
            "  34.95652947 100.3483835   94.62343412 129.75311519 111.72145194\n",
            "  31.20186739 126.22925141 170.37559379  93.91169198 128.63802017\n",
            " 124.06418209  73.98595859 135.38749389  42.57823228 153.03691441\n",
            " 135.39053018 180.01113367 185.66905334  56.25092073 119.39616481\n",
            " 147.03826747 106.02795416 124.43984476  74.78500457  24.8012232\n",
            " 181.78159026 125.67401213 114.26691333  53.46936162   7.95643631\n",
            " 150.57907094  17.64906939 142.03502045  40.1012879   51.89784986\n",
            " 111.78095417  95.01559333 109.88440337  74.25743485   9.80556628\n",
            "  98.72224332  70.73799302  96.87694432  29.69045436  14.19966976\n",
            " 128.31101163 107.67053326 153.97638688 147.40600972 133.94646251\n",
            " 165.8443908  104.58647848 133.30895987 120.87266441 133.0615455\n",
            " 143.65557095  59.30038683 110.23396073 128.7236174  167.75490269\n",
            " 113.60536996 102.45317134  85.60082343 135.28971583 179.26238848\n",
            " 102.70638632 153.04037548 134.10219682  96.49164711  57.92401433\n",
            " 150.27771746  91.03026108   3.21904285  62.31878587 175.30677221\n",
            " 120.80121976  52.65855975  39.05497553  81.79124425 118.33314878\n",
            " 143.06497764  41.20080489  55.27112331  83.40442043 149.61600551\n",
            " 110.66847513 125.89243953 140.37334466 157.47453138  59.48161938\n",
            " 126.69295283   1.12629137 133.54186722 106.87325327 152.90467427\n",
            "   4.22850126 107.79291786  82.1739254  105.50642963 123.17428129\n",
            "  85.29729119  18.51745275 154.42420764 128.05202569  79.01586128\n",
            "  63.75205103  97.88370313 102.61641601 131.5065672  100.98639113\n",
            " -46.24729629  64.43896406 -73.60469103 112.19721318 108.33112004\n",
            " 151.24901682 118.06790492  77.86960667  79.49624647   7.1834635\n",
            " 112.33821461 117.99625334  89.64273919 154.69836231  71.92333009\n",
            " 166.0163633  134.49265164 169.6551431  185.2070518  119.43706368\n",
            "  15.6506813  129.69977076   7.2972353  102.95309626 116.19056248\n",
            " 139.38342819  39.15432549 132.62683992 126.2941648  152.56970068\n",
            " 151.7684402   80.02464729 120.79255579  75.72170954  69.65000118\n",
            " -13.4570419  145.58973986  64.31324981 167.34035003 104.23124098\n",
            " 122.50005525  79.2604246  179.4255481   41.87993061 148.54336288\n",
            "  40.07360432 110.93915441  82.01663107 148.6325405   25.00952227\n",
            "  36.6402818   99.03093636 107.11686412 134.66372878 166.33548774\n",
            " 158.24922749 136.5299175  138.09324554 111.63918427 130.76965383\n",
            "  56.1882652  162.57149362  87.15682315 141.55628016 111.0195372\n",
            "  46.96063408 109.51221279 114.60992411  50.93459915 -10.1776031\n",
            " 123.48883966  76.80976672 -19.70017498  64.70942992 137.33515461\n",
            " 123.9244461   96.78147261  47.84973723 139.75998754 124.15763867]\n"
          ]
        }
      ],
      "source": [
        "y_pred=ml.predict(x_test)\n",
        "print(y_pred)"
      ]
    },
    {
      "cell_type": "code",
      "execution_count": null,
      "metadata": {
        "colab": {
          "base_uri": "https://localhost:8080/"
        },
        "id": "X1-LPy1mX0WR",
        "outputId": "30275962-10ec-411c-cf43-ac991d5a0bf4"
      },
      "outputs": [
        {
          "output_type": "stream",
          "name": "stdout",
          "text": [
            "Enter all attributes 1\n",
            "56\n",
            "Enter all attributes 2\n",
            "55\n",
            "Enter all attributes 3\n",
            "90\n",
            "Enter all attributes 4\n",
            "56\n",
            "Enter all attributes 5\n",
            "54\n",
            "Input Attributes :  [56, 55, 90, 56, 54]\n",
            "Predicted Rank :  [84]\n"
          ]
        }
      ],
      "source": [
        "lst = []  \n",
        "for i in range(0, 5):\n",
        "    print('Enter all attributes ' + str(i+1))\n",
        "    ele = int(input())  \n",
        "    lst.append(ele)      \n",
        "print(\"Input Attributes : \" ,lst)\n",
        "out = [round(item) for item in ml.predict([lst])]\n",
        "print(\"Predicted Rank : \" ,out)"
      ]
    },
    {
      "cell_type": "code",
      "execution_count": null,
      "metadata": {
        "id": "j8AO9R57YGTW",
        "colab": {
          "base_uri": "https://localhost:8080/"
        },
        "outputId": "954b51fd-78d2-4173-9b03-7328fb77db06"
      },
      "outputs": [
        {
          "output_type": "execute_result",
          "data": {
            "text/plain": [
              "0.723081530843674"
            ]
          },
          "metadata": {},
          "execution_count": 9
        }
      ],
      "source": [
        "from sklearn.metrics import r2_score\n",
        "r2_score(y_test,y_pred)"
      ]
    },
    {
      "cell_type": "code",
      "execution_count": null,
      "metadata": {
        "id": "xosvYkFKYKbo",
        "colab": {
          "base_uri": "https://localhost:8080/",
          "height": 638
        },
        "outputId": "21d388b0-1917-453d-a296-3608f96faaea"
      },
      "outputs": [
        {
          "output_type": "execute_result",
          "data": {
            "text/plain": [
              "Text(0.5, 1.0, 'Actual vs Predicted')"
            ]
          },
          "metadata": {},
          "execution_count": 10
        },
        {
          "output_type": "display_data",
          "data": {
            "text/plain": [
              "<Figure size 1080x720 with 1 Axes>"
            ],
            "image/png": "[encoded data removed]"
          },
          "metadata": {
            "needs_background": "light"
          }
        }
      ],
      "source": [
        "import matplotlib.pyplot as plt\n",
        "plt.figure(figsize=(15,10))\n",
        "plt.scatter(y_test,y_pred)\n",
        "plt.xlabel('Actual')\n",
        "plt.ylabel('Predicted')\n",
        "plt.title('Actual vs Predicted')"
      ]
    },
    {
      "cell_type": "code",
      "execution_count": null,
      "metadata": {
        "id": "ldRdiaedYTau",
        "colab": {
          "base_uri": "https://localhost:8080/"
        },
        "outputId": "1f12cc43-b702-497a-ec72-ea13c2696356"
      },
      "outputs": [
        {
          "output_type": "execute_result",
          "data": {
            "text/plain": [
              "0.723081530843674"
            ]
          },
          "metadata": {},
          "execution_count": 11
        }
      ],
      "source": [
        "ml.score(x_test,y_test)"
      ]
    },
    {
      "cell_type": "code",
      "execution_count": null,
      "metadata": {
        "id": "nlkERWrwYVqY",
        "colab": {
          "base_uri": "https://localhost:8080/"
        },
        "outputId": "87f93f62-6a3c-431a-c879-4565f351c583"
      },
      "outputs": [
        {
          "output_type": "execute_result",
          "data": {
            "text/plain": [
              "array([0.66059113, 0.75707736, 0.77371999, 0.71468002, 0.71856541])"
            ]
          },
          "metadata": {},
          "execution_count": 12
        }
      ],
      "source": [
        "from sklearn.model_selection import cross_val_score\n",
        "scores = cross_val_score(ml,x_train,y_train,scoring='r2', cv=5)\n",
        "scores"
      ]
    },
    {
      "cell_type": "code",
      "execution_count": null,
      "metadata": {
        "id": "IfkZf1klYY-w",
        "colab": {
          "base_uri": "https://localhost:8080/"
        },
        "outputId": "64bdbd9c-fd2e-41df-e212-d5862e8738e4"
      },
      "outputs": [
        {
          "output_type": "execute_result",
          "data": {
            "text/plain": [
              "0.5823261238967217"
            ]
          },
          "metadata": {},
          "execution_count": 13
        }
      ],
      "source": [
        "from sklearn.neighbors import KNeighborsRegressor\n",
        "neigh = KNeighborsRegressor(n_neighbors=2)\n",
        "neigh.fit(x_train,y_train)\n",
        "neigh.score(x_test,y_test)"
      ]
    },
    {
      "cell_type": "code",
      "execution_count": null,
      "metadata": {
        "id": "94D-D_dwYgI4",
        "colab": {
          "base_uri": "https://localhost:8080/"
        },
        "outputId": "71225551-f33b-47e8-ba13-ba026ae0be93"
      },
      "outputs": [
        {
          "output_type": "execute_result",
          "data": {
            "text/plain": [
              "0.6490407731492462"
            ]
          },
          "metadata": {},
          "execution_count": 14
        }
      ],
      "source": [
        "from sklearn.svm import SVR\n",
        "from sklearn.pipeline import make_pipeline\n",
        "from sklearn.preprocessing import StandardScaler\n",
        "import numpy as np\n",
        "n_samples, n_features = 10, 5\n",
        "rng = np.random.RandomState(0)\n",
        "y = rng.randn(n_samples)\n",
        "X = rng.randn(n_samples, n_features)\n",
        "sregr = make_pipeline(StandardScaler(), SVR(C=1.0, epsilon=0.2))\n",
        "sregr.fit(x_train,y_train)\n",
        "sregr.score(x_test,y_test)"
      ]
    },
    {
      "cell_type": "code",
      "execution_count": null,
      "metadata": {
        "id": "4jDVjRBdYkWz",
        "colab": {
          "base_uri": "https://localhost:8080/"
        },
        "outputId": "ef0cb7b0-0d7f-43f4-be01-2117b80c8c7b"
      },
      "outputs": [
        {
          "output_type": "execute_result",
          "data": {
            "text/plain": [
              "0.6601322823725267"
            ]
          },
          "metadata": {},
          "execution_count": 15
        }
      ],
      "source": [
        "from sklearn.ensemble import RandomForestRegressor\n",
        "regr = RandomForestRegressor(max_depth=2, random_state=0)\n",
        "regr.fit(x_train,y_train)\n",
        "regr.score(x_test,y_test)"
      ]
    },
    {
      "cell_type": "code",
      "execution_count": null,
      "metadata": {
        "id": "vSephqVxYnUV",
        "colab": {
          "base_uri": "https://localhost:8080/"
        },
        "outputId": "334fee57-3e1d-4c1e-e749-b22d0378febf"
      },
      "outputs": [
        {
          "output_type": "execute_result",
          "data": {
            "text/plain": [
              "0.47108211212009954"
            ]
          },
          "metadata": {},
          "execution_count": 16
        }
      ],
      "source": [
        "from sklearn.tree import DecisionTreeRegressor\n",
        "regressor = DecisionTreeRegressor(random_state=0)\n",
        "regressor.fit(x_train,y_train)\n",
        "regressor.score(x_test,y_test)"
      ]
    },
    {
      "cell_type": "code",
      "source": [],
      "metadata": {
        "id": "Y17Anuie1rEL"
      },
      "execution_count": null,
      "outputs": []
    }
  ],
  "metadata": {
    "colab": {
      "provenance": [],
      "authorship_tag": "ABX9TyM7iVTKMRRa17g1Vr6I6gMA",
      "include_colab_link": true
    },
    "kernelspec": {
      "display_name": "Python 3",
      "name": "python3"
    },
    "language_info": {
      "name": "python"
    }
  },
  "nbformat": 4,
  "nbformat_minor": 0
}